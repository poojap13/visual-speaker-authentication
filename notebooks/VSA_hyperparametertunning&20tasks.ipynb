{
 "cells": [
  {
   "cell_type": "code",
   "execution_count": 3,
   "id": "9f1c2001-73cc-415b-b837-df890c98fc66",
   "metadata": {},
   "outputs": [
    {
     "name": "stdout",
     "output_type": "stream",
     "text": [
      "Torch version: 2.4.1+cu118\n",
      "CUDA available: True\n",
      "CUDA device: NVIDIA GeForce GTX 1650\n",
      "SymPy version: 1.13.3\n",
      "Numpy version: 1.24.4\n"
     ]
    }
   ],
   "source": [
    "import torch\n",
    "import sympy\n",
    "import numpy as np\n",
    "\n",
    "print(\"Torch version:\", torch.__version__)\n",
    "print(\"CUDA available:\", torch.cuda.is_available())\n",
    "print(\"CUDA device:\", torch.cuda.get_device_name(0) if torch.cuda.is_available() else \"CPU\")\n",
    "print(\"SymPy version:\", sympy.__version__)\n",
    "print(\"Numpy version:\", np.__version__)\n"
   ]
  },
  {
   "cell_type": "code",
   "execution_count": 2,
   "id": "2e524376-48f1-4ae7-a5d3-4ae0d215b3f7",
   "metadata": {},
   "outputs": [
    {
     "name": "stdout",
     "output_type": "stream",
     "text": [
      "Collecting sympy\n",
      "  Downloading sympy-1.13.3-py3-none-any.whl.metadata (12 kB)\n",
      "Requirement already satisfied: mpmath<1.4,>=1.1.0 in c:\\users\\arvind\\anaconda3\\envs\\learn2learn_env\\lib\\site-packages (from sympy) (1.3.0)\n",
      "Downloading sympy-1.13.3-py3-none-any.whl (6.2 MB)\n",
      "   ---------------------------------------- 0.0/6.2 MB ? eta -:--:--\n",
      "   - -------------------------------------- 0.3/6.2 MB ? eta -:--:--\n",
      "   --- ------------------------------------ 0.5/6.2 MB 1.5 MB/s eta 0:00:04\n",
      "   ---------- ----------------------------- 1.6/6.2 MB 2.8 MB/s eta 0:00:02\n",
      "   --------------- ------------------------ 2.4/6.2 MB 3.4 MB/s eta 0:00:02\n",
      "   ---------------------- ----------------- 3.4/6.2 MB 3.9 MB/s eta 0:00:01\n",
      "   ------------------------- -------------- 3.9/6.2 MB 3.8 MB/s eta 0:00:01\n",
      "   ---------------------------- ----------- 4.5/6.2 MB 3.4 MB/s eta 0:00:01\n",
      "   -------------------------------- ------- 5.0/6.2 MB 3.1 MB/s eta 0:00:01\n",
      "   ------------------------------------- -- 5.8/6.2 MB 3.2 MB/s eta 0:00:01\n",
      "   ---------------------------------------- 6.2/6.2 MB 3.3 MB/s eta 0:00:00\n",
      "Installing collected packages: sympy\n",
      "Successfully installed sympy-1.13.3\n",
      "Note: you may need to restart the kernel to use updated packages.\n"
     ]
    }
   ],
   "source": [
    "pip install sympy"
   ]
  },
  {
   "cell_type": "code",
   "execution_count": null,
   "id": "9d9b9c55-81e0-4df3-b1fc-808dc1be8c7b",
   "metadata": {},
   "outputs": [
    {
     "name": "stderr",
     "output_type": "stream",
     "text": [
      "[I 2025-04-05 22:06:26,811] A new study created in memory with name: no-name-1974888f-fa94-4009-a503-6b1f8f6dcd8b\n",
      "[I 2025-04-05 22:41:32,657] Trial 0 finished with value: 1.0 and parameters: {'dropout': 0.4084490799212195, 'inner_lr': 0.006207246662406485, 'meta_lr': 0.0003293153081341353, 'shots': 6}. Best is trial 0 with value: 1.0.\n"
     ]
    },
    {
     "name": "stdout",
     "output_type": "stream",
     "text": [
      "⚠️ Skipping file E:/visual_speaker_auth/data/gridcorpus/optical_flow\\real\\s20\\bgal6s.npy: Failed to interpret file 'E:/visual_speaker_auth/data/gridcorpus/optical_flow\\\\real\\\\s20\\\\bgal6s.npy' as a pickle\n",
      "⚠️ Skipping file E:/visual_speaker_auth/data/gridcorpus/optical_flow\\real\\s20\\bgal6s.npy: Failed to interpret file 'E:/visual_speaker_auth/data/gridcorpus/optical_flow\\\\real\\\\s20\\\\bgal6s.npy' as a pickle\n"
     ]
    },
    {
     "name": "stderr",
     "output_type": "stream",
     "text": [
      "[I 2025-04-05 23:07:57,874] Trial 1 finished with value: 1.0 and parameters: {'dropout': 0.3677853797302405, 'inner_lr': 0.004456333899317315, 'meta_lr': 0.0005940225884997949, 'shots': 4}. Best is trial 0 with value: 1.0.\n",
      "[I 2025-04-05 23:33:29,897] Trial 2 finished with value: 1.0 and parameters: {'dropout': 0.26932341658923653, 'inner_lr': 0.02038073258339946, 'meta_lr': 0.0008305042301844813, 'shots': 6}. Best is trial 0 with value: 1.0.\n",
      "[I 2025-04-06 00:05:14,337] Trial 3 finished with value: 1.0 and parameters: {'dropout': 0.2686178385625197, 'inner_lr': 0.009294777555457795, 'meta_lr': 6.182121516748882e-05, 'shots': 6}. Best is trial 0 with value: 1.0.\n",
      "[I 2025-04-06 00:28:00,330] Trial 4 finished with value: 1.0 and parameters: {'dropout': 0.34633302065582144, 'inner_lr': 0.017326204830280138, 'meta_lr': 6.603453356101873e-05, 'shots': 5}. Best is trial 0 with value: 1.0.\n",
      "[I 2025-04-06 01:02:08,867] Trial 5 finished with value: 1.0 and parameters: {'dropout': 0.37656865990260097, 'inner_lr': 0.02042052122941683, 'meta_lr': 0.0006003264928298247, 'shots': 7}. Best is trial 0 with value: 1.0.\n",
      "[I 2025-04-06 01:20:51,773] Trial 6 finished with value: 1.0 and parameters: {'dropout': 0.4125994653058682, 'inner_lr': 0.02305157766890832, 'meta_lr': 0.00033077201046670683, 'shots': 4}. Best is trial 0 with value: 1.0.\n"
     ]
    },
    {
     "name": "stdout",
     "output_type": "stream",
     "text": [
      "⚠️ Skipping file E:/visual_speaker_auth/data/gridcorpus/optical_flow\\real\\s20\\bgal6s.npy: Failed to interpret file 'E:/visual_speaker_auth/data/gridcorpus/optical_flow\\\\real\\\\s20\\\\bgal6s.npy' as a pickle\n",
      "⚠️ Skipping file E:/visual_speaker_auth/data/gridcorpus/optical_flow\\real\\s20\\bgal6s.npy: Failed to interpret file 'E:/visual_speaker_auth/data/gridcorpus/optical_flow\\\\real\\\\s20\\\\bgal6s.npy' as a pickle\n"
     ]
    },
    {
     "name": "stderr",
     "output_type": "stream",
     "text": [
      "[I 2025-04-06 01:33:54,051] Trial 7 finished with value: 1.0 and parameters: {'dropout': 0.33641623349517946, 'inner_lr': 0.022796671379893288, 'meta_lr': 0.000817544252789123, 'shots': 3}. Best is trial 0 with value: 1.0.\n"
     ]
    }
   ],
   "source": [
    "import optuna\n",
    "import os\n",
    "import random\n",
    "import numpy as np\n",
    "import torch\n",
    "import torch.nn as nn\n",
    "import torch.nn.functional as F\n",
    "import torch.optim as optim\n",
    "from sklearn.metrics import classification_report, confusion_matrix, roc_curve, auc, accuracy_score\n",
    "import matplotlib.pyplot as plt\n",
    "import seaborn as sns\n",
    "import pandas as pd\n",
    "from tqdm import tqdm\n",
    "import learn2learn as l2l\n",
    "\n",
    "# ====== CONFIGURATION ======\n",
    "device = torch.device(\"cuda\" if torch.cuda.is_available() else \"cpu\")\n",
    "optical_flow_path = \"E:/visual_speaker_auth/data/gridcorpus/optical_flow\"\n",
    "train_speakers = [f\"s{i}\" for i in range(1, 21)]\n",
    "val_speakers = [f\"s{i}\" for i in range(21, 26)]\n",
    "test_speakers = [f\"s{i}\" for i in range(26, 31)]\n",
    "MAX_FRAMES = 30\n",
    "EPOCHS = 10\n",
    "TASKS_PER_EPOCH = 50\n",
    "VAL_TASKS = 20\n",
    "\n",
    "# ====== MODEL DEFINITION ======\n",
    "class OpticalFlowModel(nn.Module):\n",
    "    def __init__(self, dropout):\n",
    "        super().__init__()\n",
    "        self.features = nn.Sequential(\n",
    "            nn.Conv3d(2, 32, kernel_size=3, padding=1),\n",
    "            nn.BatchNorm3d(32), nn.ReLU(), nn.MaxPool3d((1,2,2)),\n",
    "            nn.Conv3d(32, 64, kernel_size=3, padding=1),\n",
    "            nn.BatchNorm3d(64), nn.ReLU(), nn.MaxPool3d((1,2,2)),\n",
    "            nn.Conv3d(64, 128, kernel_size=3, padding=1),\n",
    "            nn.BatchNorm3d(128), nn.ReLU(), nn.MaxPool3d((1,2,2)),\n",
    "            nn.AdaptiveAvgPool3d((1,8,8))\n",
    "        )\n",
    "        self.classifier = nn.Sequential(\n",
    "            nn.Linear(128*8*8, 256), nn.ReLU(),\n",
    "            nn.Dropout(dropout), nn.Linear(256, 2)\n",
    "        )\n",
    "\n",
    "    def forward(self, x):\n",
    "        x = self.features(x)\n",
    "        return self.classifier(x.view(x.size(0), -1))\n",
    "\n",
    "# ====== TASK GENERATOR ======\n",
    "class TaskGenerator:\n",
    "    def __init__(self, base_path, speakers, shots):\n",
    "        self.base_path = base_path\n",
    "        self.speakers = speakers\n",
    "        self.shots = shots\n",
    "\n",
    "    def _load(self, path):\n",
    "        try:\n",
    "            flow = np.load(path, allow_pickle=True)\n",
    "            flow = torch.from_numpy(flow).float().permute(3, 0, 1, 2)\n",
    "            flow = flow[:, :MAX_FRAMES] if flow.size(1) >= MAX_FRAMES \\\n",
    "                   else F.pad(flow, (0, 0, 0, 0, 0, MAX_FRAMES - flow.size(1)))\n",
    "            return flow + 0.01 * torch.randn_like(flow)\n",
    "        except Exception as e:\n",
    "            print(f\"⚠️ Skipping file {path}: {e}\")\n",
    "            return None\n",
    "\n",
    "    def create_task(self):\n",
    "        for _ in range(10):\n",
    "            s1, s2 = random.sample(self.speakers, 2)\n",
    "\n",
    "            def sample_paths(speaker, label):\n",
    "                path = os.path.join(self.base_path, label, speaker)\n",
    "                if not os.path.exists(path): return []\n",
    "                files = [os.path.join(path, f) for f in os.listdir(path) if f.endswith('.npy')]\n",
    "                return random.sample(files, min(len(files), self.shots))\n",
    "\n",
    "            sr, sf = sample_paths(s1, 'real'), sample_paths(s1, 'fake')\n",
    "            qr, qf = sample_paths(s2, 'real'), sample_paths(s2, 'fake')\n",
    "            if min(len(sr), len(sf), len(qr), len(qf)) < self.shots: continue\n",
    "\n",
    "            s_data = [(p, 0) for p in sr] + [(p, 1) for p in sf]\n",
    "            q_data = [(p, 0) for p in qr] + [(p, 1) for p in qf]\n",
    "\n",
    "            try:\n",
    "                s_x = torch.stack([self._load(p) for p, _ in s_data if self._load(p) is not None]).to(device)\n",
    "                s_y = torch.tensor([lbl for p, lbl in s_data if self._load(p) is not None]).to(device)\n",
    "                q_x = torch.stack([self._load(p) for p, _ in q_data if self._load(p) is not None]).to(device)\n",
    "                q_y = torch.tensor([lbl for p, lbl in q_data if self._load(p) is not None]).to(device)\n",
    "                return s_x, s_y, q_x, q_y\n",
    "            except:\n",
    "                continue\n",
    "        return None, None, None, None\n",
    "\n",
    "# ====== OPTUNA OBJECTIVE FUNCTION ======\n",
    "def objective(trial):\n",
    "    dropout = trial.suggest_float(\"dropout\", 0.2, 0.5)\n",
    "    inner_lr = trial.suggest_float(\"inner_lr\", 0.001, 0.03)\n",
    "    meta_lr = trial.suggest_float(\"meta_lr\", 1e-5, 1e-3)\n",
    "    shots = trial.suggest_int(\"shots\", 3, 8)\n",
    "\n",
    "    model = OpticalFlowModel(dropout).to(device)\n",
    "    maml = l2l.algorithms.MAML(model, lr=inner_lr)\n",
    "    optimizer = optim.Adam(maml.parameters(), lr=meta_lr)\n",
    "    train_gen = TaskGenerator(optical_flow_path, train_speakers, shots)\n",
    "    val_gen = TaskGenerator(optical_flow_path, val_speakers, shots)\n",
    "\n",
    "    for _ in range(EPOCHS):\n",
    "        for _ in range(TASKS_PER_EPOCH):\n",
    "            s_x, s_y, q_x, q_y = train_gen.create_task()\n",
    "            if s_x is None: continue\n",
    "            learner = maml.clone()\n",
    "            learner.adapt(F.cross_entropy(learner(s_x), s_y))\n",
    "            loss = F.cross_entropy(learner(q_x), q_y)\n",
    "            optimizer.zero_grad(); loss.backward(); optimizer.step()\n",
    "\n",
    "    val_accs = []\n",
    "    for _ in range(VAL_TASKS):\n",
    "        s_x, s_y, q_x, q_y = val_gen.create_task()\n",
    "        if s_x is None: continue\n",
    "        learner = maml.clone()\n",
    "        learner.adapt(F.cross_entropy(learner(s_x), s_y))\n",
    "        preds = learner(q_x).argmax(dim=1)\n",
    "        val_accs.append((preds == q_y).float().mean().item())\n",
    "    return np.mean(val_accs)\n",
    "\n",
    "study = optuna.create_study(direction=\"maximize\")\n",
    "study.optimize(objective, n_trials=10)\n",
    "\n",
    "# Best trial\n",
    "best_trial = study.best_trial\n",
    "print(\"✅ BEST HYPERPARAMETERS:\")\n",
    "for key, val in best_trial.params.items():\n",
    "    print(f\"{key}: {val}\")\n"
   ]
  },
  {
   "cell_type": "code",
   "execution_count": null,
   "id": "d5599543-3e9a-43ec-9757-1abb97117a10",
   "metadata": {},
   "outputs": [],
   "source": []
  },
  {
   "cell_type": "code",
   "execution_count": 2,
   "id": "8252629f-e5a8-4125-b780-2bc86d7845a2",
   "metadata": {},
   "outputs": [
    {
     "name": "stdout",
     "output_type": "stream",
     "text": [
      "✅ Using device: cuda\n"
     ]
    },
    {
     "name": "stderr",
     "output_type": "stream",
     "text": [
      "Epoch 1: 100%|█████████████████████████████████████████████████████████████████████████| 20/20 [01:44<00:00,  5.24s/it]\n"
     ]
    },
    {
     "name": "stdout",
     "output_type": "stream",
     "text": [
      "✅ Epoch 1: Train Acc: 80.36%\n"
     ]
    },
    {
     "name": "stderr",
     "output_type": "stream",
     "text": [
      "Epoch 2: 100%|█████████████████████████████████████████████████████████████████████████| 20/20 [01:47<00:00,  5.39s/it]\n"
     ]
    },
    {
     "name": "stdout",
     "output_type": "stream",
     "text": [
      "✅ Epoch 2: Train Acc: 100.00%\n"
     ]
    },
    {
     "name": "stderr",
     "output_type": "stream",
     "text": [
      "Epoch 3: 100%|█████████████████████████████████████████████████████████████████████████| 20/20 [01:46<00:00,  5.33s/it]\n"
     ]
    },
    {
     "name": "stdout",
     "output_type": "stream",
     "text": [
      "✅ Epoch 3: Train Acc: 98.93%\n"
     ]
    },
    {
     "name": "stderr",
     "output_type": "stream",
     "text": [
      "Epoch 4: 100%|█████████████████████████████████████████████████████████████████████████| 20/20 [01:46<00:00,  5.31s/it]\n"
     ]
    },
    {
     "name": "stdout",
     "output_type": "stream",
     "text": [
      "✅ Epoch 4: Train Acc: 99.64%\n"
     ]
    },
    {
     "name": "stderr",
     "output_type": "stream",
     "text": [
      "Epoch 5: 100%|█████████████████████████████████████████████████████████████████████████| 20/20 [01:45<00:00,  5.26s/it]\n"
     ]
    },
    {
     "name": "stdout",
     "output_type": "stream",
     "text": [
      "✅ Epoch 5: Train Acc: 99.29%\n"
     ]
    },
    {
     "name": "stderr",
     "output_type": "stream",
     "text": [
      "Epoch 6: 100%|█████████████████████████████████████████████████████████████████████████| 20/20 [01:45<00:00,  5.28s/it]\n"
     ]
    },
    {
     "name": "stdout",
     "output_type": "stream",
     "text": [
      "✅ Epoch 6: Train Acc: 100.00%\n"
     ]
    },
    {
     "name": "stderr",
     "output_type": "stream",
     "text": [
      "Epoch 7: 100%|█████████████████████████████████████████████████████████████████████████| 20/20 [01:49<00:00,  5.48s/it]\n"
     ]
    },
    {
     "name": "stdout",
     "output_type": "stream",
     "text": [
      "✅ Epoch 7: Train Acc: 96.43%\n"
     ]
    },
    {
     "name": "stderr",
     "output_type": "stream",
     "text": [
      "Epoch 8: 100%|█████████████████████████████████████████████████████████████████████████| 20/20 [01:43<00:00,  5.17s/it]\n"
     ]
    },
    {
     "name": "stdout",
     "output_type": "stream",
     "text": [
      "✅ Epoch 8: Train Acc: 99.64%\n"
     ]
    },
    {
     "name": "stderr",
     "output_type": "stream",
     "text": [
      "Epoch 9: 100%|█████████████████████████████████████████████████████████████████████████| 20/20 [01:42<00:00,  5.13s/it]\n"
     ]
    },
    {
     "name": "stdout",
     "output_type": "stream",
     "text": [
      "✅ Epoch 9: Train Acc: 99.64%\n"
     ]
    },
    {
     "name": "stderr",
     "output_type": "stream",
     "text": [
      "Epoch 10: 100%|████████████████████████████████████████████████████████████████████████| 20/20 [01:44<00:00,  5.20s/it]\n",
      "C:\\Users\\Arvind\\AppData\\Local\\Temp\\ipykernel_21300\\55351817.py:169: FutureWarning: You are using `torch.load` with `weights_only=False` (the current default value), which uses the default pickle module implicitly. It is possible to construct malicious pickle data which will execute arbitrary code during unpickling (See https://github.com/pytorch/pytorch/blob/main/SECURITY.md#untrusted-models for more details). In a future release, the default value for `weights_only` will be flipped to `True`. This limits the functions that could be executed during unpickling. Arbitrary objects will no longer be allowed to be loaded via this mode unless they are explicitly allowlisted by the user via `torch.serialization.add_safe_globals`. We recommend you start setting `weights_only=True` for any use case where you don't have full control of the loaded file. Please open an issue on GitHub for any issues related to this experimental feature.\n",
      "  model.load_state_dict(torch.load(\"best_model.pth\"))\n"
     ]
    },
    {
     "name": "stdout",
     "output_type": "stream",
     "text": [
      "✅ Epoch 10: Train Acc: 99.29%\n"
     ]
    },
    {
     "name": "stderr",
     "output_type": "stream",
     "text": [
      "Test Evaluation: 100%|█████████████████████████████████████████████████████████████████| 20/20 [01:10<00:00,  3.54s/it]\n"
     ]
    },
    {
     "name": "stdout",
     "output_type": "stream",
     "text": [
      "\n",
      "✅ Test Accuracy: 99.64%\n",
      "🔹 EER: 0.0000 | FAR: 0.0071 | FRR: 0.0000 | HTER: 0.0036\n",
      "🔹 Precision: 0.9929 | Recall: 1.0000 | F1: 0.9964\n",
      "              precision    recall  f1-score   support\n",
      "\n",
      "        Real       1.00      0.99      1.00       140\n",
      "        Fake       0.99      1.00      1.00       140\n",
      "\n",
      "    accuracy                           1.00       280\n",
      "   macro avg       1.00      1.00      1.00       280\n",
      "weighted avg       1.00      1.00      1.00       280\n",
      "\n",
      "✅ Final model saved.\n"
     ]
    }
   ],
   "source": [
    "# ✅ FINAL NO-CACHING VERSION for GRID\n",
    "import os, random, numpy as np, torch\n",
    "import torch.nn as nn, torch.nn.functional as F, torch.optim as optim\n",
    "from sklearn.metrics import classification_report, confusion_matrix, roc_curve, auc, precision_recall_fscore_support\n",
    "from tqdm import tqdm\n",
    "import pandas as pd\n",
    "import learn2learn as l2l\n",
    "from datetime import datetime\n",
    "\n",
    "device = torch.device(\"cuda\" if torch.cuda.is_available() else \"cpu\")\n",
    "print(\"✅ Using device:\", device)\n",
    "\n",
    "optical_flow_path = r\"E:\\\\visual_speaker_auth\\\\data\\\\gridcorpus\\\\optical_flow\"\n",
    "train_speakers = [f\"s{i}\" for i in range(1, 23) if i != 20]\n",
    "val_speakers   = [f\"s{i}\" for i in range(23, 26) if i != 20]\n",
    "test_speakers  = [f\"s{i}\" for i in range(26, 31) if i != 20]\n",
    "\n",
    "# Optuna-tuned\n",
    "dropout = 0.37656865990260097\n",
    "inner_lr = 0.02042052122941683\n",
    "meta_lr = 0.0006003264928298247\n",
    "shots = 7\n",
    "\n",
    "# ======== MODEL ========\n",
    "class OpticalFlowModel(nn.Module):\n",
    "    def __init__(self, dropout):\n",
    "        super().__init__()\n",
    "        self.features = nn.Sequential(\n",
    "            nn.Conv3d(2, 32, 3, padding=1), nn.BatchNorm3d(32), nn.ReLU(), nn.MaxPool3d((1,2,2)),\n",
    "            nn.Conv3d(32, 64, 3, padding=1), nn.BatchNorm3d(64), nn.ReLU(), nn.MaxPool3d((1,2,2)),\n",
    "            nn.Conv3d(64, 128, 3, padding=1), nn.BatchNorm3d(128), nn.ReLU(), nn.MaxPool3d((1,2,2)),\n",
    "            nn.AdaptiveAvgPool3d((1,8,8))\n",
    "        )\n",
    "        self.classifier = nn.Sequential(\n",
    "            nn.Linear(128*8*8, 256), nn.ReLU(), nn.Dropout(dropout), nn.Linear(256, 2)\n",
    "        )\n",
    "    def forward(self, x):\n",
    "        x = self.features(x)\n",
    "        return self.classifier(x.view(x.size(0), -1))\n",
    "\n",
    "# ======== TASK GENERATOR (DISK LOADING) ========\n",
    "class TaskGenerator:\n",
    "    def __init__(self, base_path, speakers, shots=5, max_frames=30):\n",
    "        self.base_path = base_path\n",
    "        self.speakers = speakers\n",
    "        self.shots = shots\n",
    "        self.max_frames = max_frames\n",
    "\n",
    "    def _load(self, path):\n",
    "        data = np.load(path, allow_pickle=True)\n",
    "        flow = torch.from_numpy(data).float().permute(3, 0, 1, 2)\n",
    "        if flow.size(1) >= self.max_frames:\n",
    "            flow = flow[:, :self.max_frames]\n",
    "        else:\n",
    "            flow = F.pad(flow, (0,0,0,0,0,self.max_frames - flow.size(1)))\n",
    "        return flow + 0.01 * torch.randn_like(flow)\n",
    "\n",
    "    def create_task(self):\n",
    "        for _ in range(10):\n",
    "            s1, s2 = random.sample(self.speakers, 2)\n",
    "            def sample_paths(speaker, label):\n",
    "                path = os.path.join(self.base_path, label, speaker)\n",
    "                return [os.path.join(path, f) for f in os.listdir(path) if f.endswith('.npy')] if os.path.exists(path) else []\n",
    "            sr, sf = sample_paths(s1,'real'), sample_paths(s1,'fake')\n",
    "            qr, qf = sample_paths(s2,'real'), sample_paths(s2,'fake')\n",
    "            if min(len(sr), len(sf), len(qr), len(qf)) < self.shots: continue\n",
    "            s = [(p,0) for p in random.sample(sr, shots)] + [(p,1) for p in random.sample(sf, shots)]\n",
    "            q = [(p,0) for p in random.sample(qr, shots)] + [(p,1) for p in random.sample(qf, shots)]\n",
    "            s_x = torch.stack([self._load(p) for p,_ in s])\n",
    "            s_y = torch.tensor([lbl for _,lbl in s])\n",
    "            q_x = torch.stack([self._load(p) for p,_ in q])\n",
    "            q_y = torch.tensor([lbl for _,lbl in q])\n",
    "            return s_x.to(device), s_y.to(device), q_x.to(device), q_y.to(device)\n",
    "        return None, None, None, None\n",
    "\n",
    "# ======== EVALUATE ========\n",
    "def evaluate(maml, task_gen, phase=\"Test\", num_tasks=20):\n",
    "    accs, preds, labels, probs = [], [], [], []\n",
    "    for _ in tqdm(range(num_tasks), desc=f\"{phase} Evaluation\"):\n",
    "        s_x, s_y, q_x, q_y = task_gen.create_task()\n",
    "        if s_x is None: continue\n",
    "        learner = maml.clone(); learner.adapt(F.cross_entropy(learner(s_x), s_y))\n",
    "        out = learner(q_x)\n",
    "        accs.append((out.argmax(1)==q_y).float().mean().item())\n",
    "        preds += out.argmax(1).cpu().tolist()\n",
    "        labels += q_y.cpu().tolist()\n",
    "        probs += F.softmax(out,dim=1)[:,1].detach().cpu().tolist()\n",
    "\n",
    "    acc = np.mean(accs)*100\n",
    "    cm = confusion_matrix(labels, preds)\n",
    "    tn, fp, fn, tp = cm.ravel()\n",
    "    far = fp / (fp + tn + 1e-6)\n",
    "    frr = fn / (fn + tp + 1e-6)\n",
    "    hter = (far + frr) / 2\n",
    "    precision, recall, f1, _ = precision_recall_fscore_support(labels, preds, average='binary')\n",
    "    fpr, tpr, _ = roc_curve(labels, probs)\n",
    "    eer = fpr[np.nanargmin(np.abs(fpr - (1 - tpr)))]\n",
    "    roc_auc = auc(fpr, tpr)\n",
    "\n",
    "    print(f\"\\n✅ {phase} Accuracy: {acc:.2f}%\")\n",
    "    print(f\"🔹 EER: {eer:.4f} | FAR: {far:.4f} | FRR: {frr:.4f} | HTER: {hter:.4f}\")\n",
    "    print(f\"🔹 Precision: {precision:.4f} | Recall: {recall:.4f} | F1: {f1:.4f}\")\n",
    "    print(classification_report(labels, preds, target_names=[\"Real\", \"Fake\"]))\n",
    "\n",
    "    # 📊 Save Confusion Matrix\n",
    "    import matplotlib.pyplot as plt\n",
    "    import seaborn as sns\n",
    "    plt.figure(figsize=(6, 5))\n",
    "    sns.heatmap(cm, annot=True, fmt='d', cmap='Blues', xticklabels=[\"Real\", \"Fake\"], yticklabels=[\"Real\", \"Fake\"])\n",
    "    plt.title(f\"{phase} Confusion Matrix\")\n",
    "    plt.xlabel(\"Predicted\")\n",
    "    plt.ylabel(\"Actual\")\n",
    "    plt.tight_layout()\n",
    "    plt.savefig(f\"{phase.lower()}_cm.png\")\n",
    "    plt.close()\n",
    "\n",
    "    # 📈 Save ROC Curve\n",
    "    plt.figure(figsize=(6, 5))\n",
    "    plt.plot(fpr, tpr, label=f\"AUC: {roc_auc:.4f}\")\n",
    "    plt.plot([0,1], [0,1], 'k--')\n",
    "    plt.xlabel(\"False Positive Rate\")\n",
    "    plt.ylabel(\"True Positive Rate\")\n",
    "    plt.title(f\"{phase} ROC Curve\")\n",
    "    plt.legend()\n",
    "    plt.tight_layout()\n",
    "    plt.savefig(f\"{phase.lower()}_roc.png\")\n",
    "    plt.close()\n",
    "\n",
    "    return {\n",
    "        \"Accuracy (%)\": acc, \"EER\": eer, \"FAR\": far, \"FRR\": frr, \"HTER\": hter,\n",
    "        \"Precision\": precision, \"Recall\": recall, \"F1-score\": f1, \"AUC\": roc_auc\n",
    "    }\n",
    "\n",
    "\n",
    "# ======== TRAIN LOOP ========\n",
    "def train():\n",
    "    model = OpticalFlowModel(dropout).to(device)\n",
    "    maml = l2l.algorithms.MAML(model, lr=inner_lr)\n",
    "    optimizer = optim.Adam(maml.parameters(), lr=meta_lr)\n",
    "    gen = TaskGenerator(optical_flow_path, train_speakers, shots)\n",
    "    history = {'epoch':[], 'train_loss':[], 'train_acc':[]}\n",
    "    best = 0\n",
    "    for epoch in range(10):\n",
    "        losses, accs = [], []\n",
    "        for _ in tqdm(range(20), desc=f\"Epoch {epoch+1}\"):\n",
    "            s_x, s_y, q_x, q_y = gen.create_task()\n",
    "            if s_x is None: continue\n",
    "            learner = maml.clone(); learner.adapt(F.cross_entropy(learner(s_x), s_y))\n",
    "            out = learner(q_x)\n",
    "            loss = F.cross_entropy(out, q_y)\n",
    "            optimizer.zero_grad(); loss.backward(); optimizer.step()\n",
    "            losses.append(loss.item())\n",
    "            accs.append((out.argmax(1)==q_y).float().mean().item())\n",
    "        avg_acc = np.mean(accs)*100\n",
    "        print(f\"✅ Epoch {epoch+1}: Train Acc: {avg_acc:.2f}%\")\n",
    "        history['epoch'].append(epoch+1)\n",
    "        history['train_loss'].append(np.mean(losses))\n",
    "        history['train_acc'].append(avg_acc)\n",
    "        if avg_acc > best:\n",
    "            best = avg_acc\n",
    "            torch.save(model.state_dict(), \"best_model.pth\")\n",
    "    pd.DataFrame(history).to_csv(\"training_log.csv\", index=False)\n",
    "    return model\n",
    "\n",
    "# ======== MAIN ========\n",
    "if __name__ == \"__main__\":\n",
    "    trained = train()\n",
    "    model = OpticalFlowModel(dropout).to(device)\n",
    "    model.load_state_dict(torch.load(\"best_model.pth\"))\n",
    "    maml = l2l.algorithms.MAML(model, lr=inner_lr)\n",
    "    test_gen = TaskGenerator(optical_flow_path, test_speakers, shots)\n",
    "    results = evaluate(maml, test_gen, \"Test\", num_tasks=20)\n",
    "    pd.DataFrame([results]).to_csv(\"grid_metrics.csv\", index=False)\n",
    "    torch.save(model.state_dict(), f\"final_model_{datetime.now().strftime('%Y%m%d_%H%M%S')}.pth\")\n",
    "    print(\"✅ Final model saved.\")\n"
   ]
  },
  {
   "cell_type": "code",
   "execution_count": 3,
   "id": "318ca441-b9f0-43a3-939b-2f47f594000f",
   "metadata": {},
   "outputs": [
    {
     "data": {
      "image/png": "[encoded data removed]",
      "text/plain": [
       "<Figure size 1000x600 with 1 Axes>"
      ]
     },
     "metadata": {},
     "output_type": "display_data"
    }
   ],
   "source": [
    "import pandas as pd\n",
    "import matplotlib.pyplot as plt\n",
    "\n",
    "# Load training log\n",
    "log = pd.read_csv(\"training_log.csv\")\n",
    "\n",
    "# Plotting\n",
    "plt.figure(figsize=(10,6))\n",
    "plt.plot(log[\"epoch\"], log[\"train_loss\"], marker='o', label=\"Train Loss\")\n",
    "plt.plot(log[\"epoch\"], log[\"train_acc\"], marker='o', label=\"Train Accuracy (%)\")\n",
    "if \"val_acc\" in log.columns:\n",
    "    plt.plot(log[\"epoch\"], log[\"val_acc\"], marker='o', label=\"Val Accuracy (%)\")\n",
    "\n",
    "plt.title(\"Training Progress over Epochs\", fontsize=14)\n",
    "plt.xlabel(\"Epoch\", fontsize=12)\n",
    "plt.ylabel(\"Value\", fontsize=12)\n",
    "plt.legend()\n",
    "plt.grid(True)\n",
    "plt.tight_layout()\n",
    "plt.savefig(\"training_progress.png\")\n",
    "plt.show()\n"
   ]
  },
  {
   "cell_type": "code",
   "execution_count": 6,
   "id": "5db16089-0f9a-46e5-8457-596fabd8c4c5",
   "metadata": {},
   "outputs": [
    {
     "data": {
      "image/png": "[encoded data removed]",
      "text/plain": [
       "<Figure size 1000x600 with 1 Axes>"
      ]
     },
     "metadata": {},
     "output_type": "display_data"
    }
   ],
   "source": [
    "import pandas as pd\n",
    "import matplotlib.pyplot as plt\n",
    "\n",
    "# Load training log\n",
    "log = pd.read_csv(\"training_log.csv\")\n",
    "\n",
    "# Plotting\n",
    "plt.figure(figsize=(10,6))\n",
    "plt.plot(log[\"epoch\"], log[\"train_loss\"], marker='o', label=\"Train Loss\")\n",
    "plt.plot(log[\"epoch\"], log[\"train_acc\"], marker='o', label=\"Train Accuracy (%)\")\n",
    "if \"val_acc\" in log.columns:\n",
    "    plt.plot(log[\"epoch\"], log[\"val_acc\"], marker='o', label=\"Val Accuracy (%)\")\n",
    "\n",
    "plt.title(\"Training Progress over Epochs\", fontsize=14)\n",
    "plt.xlabel(\"Epoch\", fontsize=12)\n",
    "plt.ylabel(\"Value\", fontsize=12)\n",
    "plt.legend()\n",
    "plt.grid(True)\n",
    "plt.tight_layout()\n",
    "plt.savefig(r\"E:\\gridreslt\\training_progress.png\")\n",
    "plt.show()\n"
   ]
  },
  {
   "cell_type": "code",
   "execution_count": null,
   "id": "fc8d6fe7-2320-4c60-a4d6-fcae24bca8e8",
   "metadata": {},
   "outputs": [],
   "source": []
  }
 ],
 "metadata": {
  "kernelspec": {
   "display_name": "Learn2Learn Env",
   "language": "python",
   "name": "learn2learn_env"
  },
  "language_info": {
   "codemirror_mode": {
    "name": "ipython",
    "version": 3
   },
   "file_extension": ".py",
   "mimetype": "text/x-python",
   "name": "python",
   "nbconvert_exporter": "python",
   "pygments_lexer": "ipython3",
   "version": "3.8.20"
  }
 },
 "nbformat": 4,
 "nbformat_minor": 5
}
